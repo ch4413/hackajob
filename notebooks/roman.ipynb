{
 "cells": [
  {
   "cell_type": "code",
   "execution_count": 7,
   "metadata": {},
   "outputs": [],
   "source": [
    "class Solution:\n",
    "\tdef run(self, num):\n",
    "\t\ttry:\n",
    "\t\t\tval = [\n",
    "\t\t\t\t1000, 900, 500, 400,\n",
    "\t\t\t\t100, 90, 50, 40,\n",
    "\t\t\t\t10, 9, 5, 4,\n",
    "\t\t\t\t1\n",
    "\t\t\t\t]\n",
    "\t\t\tsyb = [\n",
    "\t\t\t\t\t\"M\", \"CM\", \"D\", \"CD\",\n",
    "\t\t\t\t\t\"C\", \"XC\", \"L\", \"XL\",\n",
    "\t\t\t\t\t\"X\", \"IX\", \"V\", \"IV\",\n",
    "\t\t\t\t\t\"I\"\n",
    "\t\t\t\t\t]\n",
    "\t\t\troman_num = ''\n",
    "\t\t\ti = 0\n",
    "\t\t\twhile  num > 0:\n",
    "\t\t\t\tfor _ in range(num // val[i]):\n",
    "\t\t\t\t\troman_num += syb[i]\n",
    "\t\t\t\t\tnum -= val[i]\n",
    "\t\t\t\ti += 1\n",
    "\t\texcept Exception as e:\n",
    "\t\t\tprint(e)\n",
    "\t\treturn roman_num"
   ]
  },
  {
   "cell_type": "code",
   "execution_count": 8,
   "metadata": {},
   "outputs": [],
   "source": [
    "sol = Solution()"
   ]
  },
  {
   "cell_type": "code",
   "execution_count": 9,
   "metadata": {},
   "outputs": [
    {
     "data": {
      "text/plain": [
       "'XII'"
      ]
     },
     "execution_count": 9,
     "metadata": {},
     "output_type": "execute_result"
    }
   ],
   "source": [
    "sol.run(12)"
   ]
  },
  {
   "cell_type": "code",
   "execution_count": 10,
   "metadata": {},
   "outputs": [
    {
     "name": "stdout",
     "output_type": "stream",
     "text": [
      "'>' not supported between instances of 'str' and 'int'\n"
     ]
    },
    {
     "data": {
      "text/plain": [
       "''"
      ]
     },
     "execution_count": 10,
     "metadata": {},
     "output_type": "execute_result"
    }
   ],
   "source": [
    "sol.run('test')"
   ]
  },
  {
   "cell_type": "code",
   "execution_count": null,
   "metadata": {},
   "outputs": [],
   "source": []
  }
 ],
 "metadata": {
  "kernelspec": {
   "display_name": "Python 3",
   "language": "python",
   "name": "python3"
  },
  "language_info": {
   "codemirror_mode": {
    "name": "ipython",
    "version": 3
   },
   "file_extension": ".py",
   "mimetype": "text/x-python",
   "name": "python",
   "nbconvert_exporter": "python",
   "pygments_lexer": "ipython3",
   "version": "3.6.8"
  }
 },
 "nbformat": 4,
 "nbformat_minor": 2
}
