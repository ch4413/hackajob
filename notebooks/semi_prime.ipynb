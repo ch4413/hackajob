{
 "cells": [
  {
   "cell_type": "code",
   "execution_count": 35,
   "metadata": {},
   "outputs": [],
   "source": [
    "def find_primes(n):\n",
    "    \"\"\"\n",
    "    Finds list of primes up to and includes n\n",
    "    Args:\n",
    "        n (int) upper bound\n",
    "    Returns:\n",
    "        list_primes (list) list of primes\n",
    "    \"\"\"\n",
    "    list_primes = []\n",
    "    for num in range(0, n + 1):\n",
    "        # all prime numbers are greater than 1\n",
    "        if num > 1:\n",
    "            for i in range(2, num):\n",
    "                if (num % i) == 0:\n",
    "                    break\n",
    "            else:\n",
    "                list_primes.extend([num])\n",
    "    return list_primes\n",
    "\n",
    "def check_factors(n, list_of_factors):\n",
    "    \"\"\"\n",
    "    Checks list_of_factors against n. Returns True if\n",
    "    there is a pair.\n",
    "    Args:\n",
    "        n (int) value to check for factors\n",
    "        list_of_factors (list) list of integers\n",
    "    Returns:\n",
    "        has_factors (bool) Flag True if factor pair found\n",
    "    \"\"\"\n",
    "    has_factors = False\n",
    "    for i in list_of_factors:\n",
    "        a = (n / i)\n",
    "        if a.is_integer():\n",
    "            if (a in list_of_factors) & (n == (a * i)):\n",
    "                has_factors = True\n",
    "                return has_factors  # (a, i)\n",
    "        else:\n",
    "            pass\n",
    "    return has_factors\n",
    "\n",
    "\n",
    "class Solution:\n",
    "    def run(self, number):\n",
    "        list_primes = find_primes(number)\n",
    "        is_semiprime = check_factors(number, list_primes)\n",
    "        return is_semiprime"
   ]
  },
  {
   "cell_type": "code",
   "execution_count": 36,
   "metadata": {},
   "outputs": [],
   "source": [
    "sol = Solution()"
   ]
  },
  {
   "cell_type": "code",
   "execution_count": 37,
   "metadata": {},
   "outputs": [
    {
     "data": {
      "text/plain": [
       "True"
      ]
     },
     "execution_count": 37,
     "metadata": {},
     "output_type": "execute_result"
    }
   ],
   "source": [
    "sol.run(4)"
   ]
  },
  {
   "cell_type": "code",
   "execution_count": null,
   "metadata": {},
   "outputs": [],
   "source": []
  }
 ],
 "metadata": {
  "kernelspec": {
   "display_name": "Python 3",
   "language": "python",
   "name": "python3"
  },
  "language_info": {
   "codemirror_mode": {
    "name": "ipython",
    "version": 3
   },
   "file_extension": ".py",
   "mimetype": "text/x-python",
   "name": "python",
   "nbconvert_exporter": "python",
   "pygments_lexer": "ipython3",
   "version": "3.6.8"
  }
 },
 "nbformat": 4,
 "nbformat_minor": 2
}
