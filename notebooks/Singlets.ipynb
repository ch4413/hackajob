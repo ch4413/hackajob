{
 "cells": [
  {
   "cell_type": "code",
   "execution_count": 31,
   "metadata": {},
   "outputs": [],
   "source": [
    "a = [2,4,5,4,2]"
   ]
  },
  {
   "cell_type": "code",
   "execution_count": 42,
   "metadata": {},
   "outputs": [],
   "source": [
    "from collections import Counter\n",
    "\n",
    "def build_counter(list_values):\n",
    "\t\"\"\"\n",
    "\tTakes list and creates counter\n",
    "\tArgs:\n",
    "\t\tlist_values (list) list of objects\n",
    "\tReturns:\n",
    "\t\tcnt (Counter) dictionary of counts\n",
    "\t\"\"\"\n",
    "\tcnt = Counter()\n",
    "\tfor number in list_values:\n",
    "\t\tcnt[number] += 1\n",
    "\treturn cnt\n",
    "\n",
    "class Solution:\n",
    "\n",
    "\tdef run(self, student_list):\n",
    "\t\t\"\"\"\n",
    "\t\tRuns pipeline to find unpaired integers from student_list\n",
    "\t\tArgs:\n",
    "\t\t\tstudent_list (list) list of objects\n",
    "\t\tReturns:\n",
    "\t\t\t(int) number with lowest count\n",
    "\t\t\"\"\"\n",
    "\t\tcnt = build_counter(student_list)\n",
    "\t\t\n",
    "\t\tlowest_count = cnt.most_common()[-1]\n",
    "\t\tif lowest_count[1] == 1:\n",
    "\t\t\treturn lowest_count[0]\n",
    "\t\telse:\n",
    "\t\t\treturn \"No single values\""
   ]
  },
  {
   "cell_type": "code",
   "execution_count": 43,
   "metadata": {},
   "outputs": [],
   "source": [
    "sol = Solution()"
   ]
  },
  {
   "cell_type": "code",
   "execution_count": 44,
   "metadata": {},
   "outputs": [
    {
     "data": {
      "text/plain": [
       "5"
      ]
     },
     "execution_count": 44,
     "metadata": {},
     "output_type": "execute_result"
    }
   ],
   "source": [
    "sol.run(a)"
   ]
  },
  {
   "cell_type": "code",
   "execution_count": null,
   "metadata": {},
   "outputs": [],
   "source": []
  }
 ],
 "metadata": {
  "kernelspec": {
   "display_name": "Python 3",
   "language": "python",
   "name": "python3"
  },
  "language_info": {
   "codemirror_mode": {
    "name": "ipython",
    "version": 3
   },
   "file_extension": ".py",
   "mimetype": "text/x-python",
   "name": "python",
   "nbconvert_exporter": "python",
   "pygments_lexer": "ipython3",
   "version": "3.6.8"
  }
 },
 "nbformat": 4,
 "nbformat_minor": 2
}
