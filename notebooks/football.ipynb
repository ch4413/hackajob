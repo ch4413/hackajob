{
 "cells": [
  {
   "cell_type": "code",
   "execution_count": 6,
   "metadata": {},
   "outputs": [],
   "source": [
    "import pandas as pd\n",
    "import urllib.request, json "
   ]
  },
  {
   "cell_type": "code",
   "execution_count": 8,
   "metadata": {},
   "outputs": [],
   "source": [
    "def get_json(url_string):\n",
    "    \"\"\"\n",
    "    \"\"\"\n",
    "    with urllib.request.urlopen(url_string) as url:\n",
    "        data = json.loads(url.read().decode())\n",
    "    return data"
   ]
  },
  {
   "cell_type": "code",
   "execution_count": 64,
   "metadata": {},
   "outputs": [],
   "source": [
    "def count_goals(data, teamKey):\n",
    "    \"\"\"\n",
    "    counts goals in dictionary of fixtures for given teamKey\n",
    "    \"\"\"\n",
    "    goals = 0\n",
    "    key_found = False\n",
    "    for i in range(len(data['rounds'])):\n",
    "        for j in range(len(data['rounds'][i]['matches'])):\n",
    "            if data['rounds'][i]['matches'][j]['team1']['key'] == teamKey:\n",
    "                goals += data['rounds'][i]['matches'][j]['score1']\n",
    "                key_found = True\n",
    "            elif data['rounds'][i]['matches'][j]['team2']['key'] == teamKey:\n",
    "                goals += data['rounds'][i]['matches'][j]['score2']\n",
    "                key_found = True\n",
    "    if key_found:\n",
    "        return goals\n",
    "    else:\n",
    "        return 'Key \"\"{0}\" not found'.format(teamKey)"
   ]
  },
  {
   "cell_type": "code",
   "execution_count": 17,
   "metadata": {},
   "outputs": [],
   "source": [
    "def json2table(data):\n",
    "    \"\"\"\n",
    "    \"\"\"\n",
    "    matches = pd.DataFrame()\n",
    "\n",
    "    for j in range(len(data['rounds'])):\n",
    "        count_matches = len(data['rounds'][j]['matches'])\n",
    "        for i in range(count_matches):\n",
    "            match = data['rounds'][j]['matches'][i]\n",
    "            matches = pd.concat([matches, pd.DataFrame(match)])\n",
    "    matches = matches.reset_index()\n",
    "    clean_matches = matches[matches['index'] == 'key'].copy()\n",
    "    return clean_matches"
   ]
  },
  {
   "cell_type": "code",
   "execution_count": 18,
   "metadata": {},
   "outputs": [],
   "source": [
    "def count_goals(df, team_name):\n",
    "    \"\"\"\n",
    "    \"\"\"\n",
    "    home = df[df['team1'] == team_name]['score1'].sum()\n",
    "    away = df[df['team2'] == team_name]['score2'].sum()\n",
    "    return home + away"
   ]
  },
  {
   "cell_type": "code",
   "execution_count": 66,
   "metadata": {},
   "outputs": [],
   "source": [
    "data = get_json(\"https://raw.githubusercontent.com/openfootball/football.json/master/2014-15/en.1.json\")"
   ]
  },
  {
   "cell_type": "code",
   "execution_count": 20,
   "metadata": {},
   "outputs": [],
   "source": [
    "clean_matches = json2table(data)"
   ]
  },
  {
   "cell_type": "code",
   "execution_count": 21,
   "metadata": {},
   "outputs": [
    {
     "data": {
      "text/html": [
       "<div>\n",
       "<style scoped>\n",
       "    .dataframe tbody tr th:only-of-type {\n",
       "        vertical-align: middle;\n",
       "    }\n",
       "\n",
       "    .dataframe tbody tr th {\n",
       "        vertical-align: top;\n",
       "    }\n",
       "\n",
       "    .dataframe thead th {\n",
       "        text-align: right;\n",
       "    }\n",
       "</style>\n",
       "<table border=\"1\" class=\"dataframe\">\n",
       "  <thead>\n",
       "    <tr style=\"text-align: right;\">\n",
       "      <th></th>\n",
       "      <th>index</th>\n",
       "      <th>date</th>\n",
       "      <th>team1</th>\n",
       "      <th>team2</th>\n",
       "      <th>score1</th>\n",
       "      <th>score2</th>\n",
       "    </tr>\n",
       "  </thead>\n",
       "  <tbody>\n",
       "    <tr>\n",
       "      <th>0</th>\n",
       "      <td>key</td>\n",
       "      <td>2014-08-16</td>\n",
       "      <td>manutd</td>\n",
       "      <td>swansea</td>\n",
       "      <td>1</td>\n",
       "      <td>2</td>\n",
       "    </tr>\n",
       "    <tr>\n",
       "      <th>3</th>\n",
       "      <td>key</td>\n",
       "      <td>2014-08-16</td>\n",
       "      <td>leicester</td>\n",
       "      <td>everton</td>\n",
       "      <td>2</td>\n",
       "      <td>2</td>\n",
       "    </tr>\n",
       "    <tr>\n",
       "      <th>6</th>\n",
       "      <td>key</td>\n",
       "      <td>2014-08-16</td>\n",
       "      <td>qpr</td>\n",
       "      <td>hull</td>\n",
       "      <td>0</td>\n",
       "      <td>1</td>\n",
       "    </tr>\n",
       "    <tr>\n",
       "      <th>9</th>\n",
       "      <td>key</td>\n",
       "      <td>2014-08-16</td>\n",
       "      <td>stoke</td>\n",
       "      <td>astonvilla</td>\n",
       "      <td>0</td>\n",
       "      <td>1</td>\n",
       "    </tr>\n",
       "    <tr>\n",
       "      <th>12</th>\n",
       "      <td>key</td>\n",
       "      <td>2014-08-16</td>\n",
       "      <td>westbrom</td>\n",
       "      <td>sunderland</td>\n",
       "      <td>2</td>\n",
       "      <td>2</td>\n",
       "    </tr>\n",
       "    <tr>\n",
       "      <th>...</th>\n",
       "      <td>...</td>\n",
       "      <td>...</td>\n",
       "      <td>...</td>\n",
       "      <td>...</td>\n",
       "      <td>...</td>\n",
       "      <td>...</td>\n",
       "    </tr>\n",
       "    <tr>\n",
       "      <th>1125</th>\n",
       "      <td>key</td>\n",
       "      <td>2015-05-24</td>\n",
       "      <td>hull</td>\n",
       "      <td>manutd</td>\n",
       "      <td>0</td>\n",
       "      <td>0</td>\n",
       "    </tr>\n",
       "    <tr>\n",
       "      <th>1128</th>\n",
       "      <td>key</td>\n",
       "      <td>2015-05-24</td>\n",
       "      <td>leicester</td>\n",
       "      <td>qpr</td>\n",
       "      <td>5</td>\n",
       "      <td>1</td>\n",
       "    </tr>\n",
       "    <tr>\n",
       "      <th>1131</th>\n",
       "      <td>key</td>\n",
       "      <td>2015-05-24</td>\n",
       "      <td>mancity</td>\n",
       "      <td>southampton</td>\n",
       "      <td>2</td>\n",
       "      <td>0</td>\n",
       "    </tr>\n",
       "    <tr>\n",
       "      <th>1134</th>\n",
       "      <td>key</td>\n",
       "      <td>2015-05-24</td>\n",
       "      <td>newcastle</td>\n",
       "      <td>westham</td>\n",
       "      <td>2</td>\n",
       "      <td>0</td>\n",
       "    </tr>\n",
       "    <tr>\n",
       "      <th>1137</th>\n",
       "      <td>key</td>\n",
       "      <td>2015-05-24</td>\n",
       "      <td>stoke</td>\n",
       "      <td>liverpool</td>\n",
       "      <td>6</td>\n",
       "      <td>1</td>\n",
       "    </tr>\n",
       "  </tbody>\n",
       "</table>\n",
       "<p>380 rows × 6 columns</p>\n",
       "</div>"
      ],
      "text/plain": [
       "     index        date      team1        team2  score1  score2\n",
       "0      key  2014-08-16     manutd      swansea       1       2\n",
       "3      key  2014-08-16  leicester      everton       2       2\n",
       "6      key  2014-08-16        qpr         hull       0       1\n",
       "9      key  2014-08-16      stoke   astonvilla       0       1\n",
       "12     key  2014-08-16   westbrom   sunderland       2       2\n",
       "...    ...         ...        ...          ...     ...     ...\n",
       "1125   key  2015-05-24       hull       manutd       0       0\n",
       "1128   key  2015-05-24  leicester          qpr       5       1\n",
       "1131   key  2015-05-24    mancity  southampton       2       0\n",
       "1134   key  2015-05-24  newcastle      westham       2       0\n",
       "1137   key  2015-05-24      stoke    liverpool       6       1\n",
       "\n",
       "[380 rows x 6 columns]"
      ]
     },
     "execution_count": 21,
     "metadata": {},
     "output_type": "execute_result"
    }
   ],
   "source": [
    "clean_matches"
   ]
  },
  {
   "cell_type": "code",
   "execution_count": 14,
   "metadata": {},
   "outputs": [
    {
     "data": {
      "text/plain": [
       "83"
      ]
     },
     "execution_count": 14,
     "metadata": {},
     "output_type": "execute_result"
    }
   ],
   "source": [
    "count_goals(clean_matches, 'Manchester City')"
   ]
  },
  {
   "cell_type": "markdown",
   "metadata": {},
   "source": [
    "### Submitted"
   ]
  },
  {
   "cell_type": "code",
   "execution_count": 69,
   "metadata": {},
   "outputs": [],
   "source": [
    "import urllib.request, json \n",
    "\n",
    "def get_json(url_string):\n",
    "    \"\"\"\n",
    "    Returns dictionary of json data from URL\n",
    "    \n",
    "    Args:\n",
    "    \turl_string (string) valid string of URL site containing JSON\n",
    "    Returns:\n",
    "    \tdata (dict) dictionary of retrived JSON\n",
    "    \"\"\"\n",
    "    with urllib.request.urlopen(url_string) as url:\n",
    "        data = json.loads(url.read().decode())\n",
    "    return data\n",
    "\n",
    "def count_goals(data, teamKey):\n",
    "    \"\"\"\n",
    "    counts goals in dictionary of fixtures for given teamKey\n",
    "    \n",
    "    Args:\n",
    "    \tdata (dict) dictionary of season's football results\n",
    "    \tteamKey (string) string of valid key within JSON for team\n",
    "    returns:\n",
    "    \tint for goals if valid teamKey, string message if not found.\n",
    "    \"\"\"\n",
    "    goals = 0\n",
    "    key_found = False\n",
    "    for i in range(len(data['rounds'])):\n",
    "        for j in range(len(data['rounds'][i]['matches'])):\n",
    "            if data['rounds'][i]['matches'][j]['team1']['key'] == teamKey:\n",
    "                goals += data['rounds'][i]['matches'][j]['score1']\n",
    "                key_found = True\n",
    "            elif data['rounds'][i]['matches'][j]['team2']['key'] == teamKey:\n",
    "                goals += data['rounds'][i]['matches'][j]['score2']\n",
    "                key_found = True\n",
    "    if key_found:\n",
    "        return goals\n",
    "    else:\n",
    "        return 'Key \"{0}\" not found'.format(teamKey)\n",
    "\n",
    "class Solution:\n",
    "\n",
    "\tdef run(self, teamKey):\n",
    "\t\t\"\"\"\n",
    "\t\tRuns pipeline to retrieve data and count gols for given teamKey\n",
    "\t\t\n",
    "\t\tArgs:\n",
    "\t\t\tteamKey (string) string of team key in data\n",
    "\t\tReturns:\n",
    "\t\t\tgoals (int) count of goals, both home and away\n",
    "\t\t\"\"\"\n",
    "\t\tdata = get_json(\"https://raw.githubusercontent.com/openfootball/football.json/master/2014-15/en.1.json\")\n",
    "\t\tgoals = count_goals(data, teamKey)\n",
    "\n",
    "\t\treturn goals"
   ]
  },
  {
   "cell_type": "code",
   "execution_count": 70,
   "metadata": {},
   "outputs": [],
   "source": [
    "sol = Solution()"
   ]
  },
  {
   "cell_type": "code",
   "execution_count": 71,
   "metadata": {},
   "outputs": [
    {
     "data": {
      "text/plain": [
       "71"
      ]
     },
     "execution_count": 71,
     "metadata": {},
     "output_type": "execute_result"
    }
   ],
   "source": [
    "sol.run('arsenal')"
   ]
  },
  {
   "cell_type": "markdown",
   "metadata": {},
   "source": [
    "#### testing"
   ]
  },
  {
   "cell_type": "code",
   "execution_count": 72,
   "metadata": {},
   "outputs": [
    {
     "name": "stderr",
     "output_type": "stream",
     "text": [
      "E\n",
      "======================================================================\n",
      "ERROR: /Users/chughes/Library/Jupyter/runtime/kernel-66d0afec-7045-4633-8160-9f3e4f8f3031 (unittest.loader._FailedTest)\n",
      "----------------------------------------------------------------------\n",
      "AttributeError: module '__main__' has no attribute '/Users/chughes/Library/Jupyter/runtime/kernel-66d0afec-7045-4633-8160-9f3e4f8f3031'\n",
      "\n",
      "----------------------------------------------------------------------\n",
      "Ran 1 test in 0.001s\n",
      "\n",
      "FAILED (errors=1)\n"
     ]
    },
    {
     "ename": "SystemExit",
     "evalue": "True",
     "output_type": "error",
     "traceback": [
      "An exception has occurred, use %tb to see the full traceback.\n",
      "\u001b[0;31mSystemExit\u001b[0m\u001b[0;31m:\u001b[0m True\n"
     ]
    },
    {
     "name": "stderr",
     "output_type": "stream",
     "text": [
      "/anaconda3/envs/ml_python_36/lib/python3.6/site-packages/IPython/core/interactiveshell.py:3275: UserWarning: To exit: use 'exit', 'quit', or Ctrl-D.\n",
      "  warn(\"To exit: use 'exit', 'quit', or Ctrl-D.\", stacklevel=1)\n"
     ]
    }
   ],
   "source": [
    "import unittest\n",
    "\n",
    "class SolutionMethods(unittest.TestCase):\n",
    "\t# Set of unit tests with unittest package\n",
    "\t\n",
    "\t# test get_json\n",
    "\tdef test_get_json(self):\n",
    "\t\t'Retrieves data from URL and checks length'\n",
    "\t\tdata = get_json(\"https://raw.githubusercontent.com/openfootball/football.json/master/2014-15/en.1.json\")\n",
    "\t\tself.assertEqual(len(data), 2)\n",
    "\t\n",
    "\t# test run\n",
    "\tdef test_run(self):\n",
    "\t\t\"\"\"\n",
    "\t\tRuns pipeline on test case\n",
    "\t\t\"\"\"\n",
    "\t\tsolution = Solution()\n",
    "\t\tself.assertEqual(solution.run('arsenal'), 71)\n",
    "\n",
    "\tdef test_run_bad_key(self):\n",
    "\t\t\"\"\"\n",
    "\t\tRuns pipeline on fail case\n",
    "\t\t\"\"\"\n",
    "\t\tsolution = Solution()\n",
    "\t\tself.assertEqual(solution.run('a'),\n",
    "\t\t'Key \"a\" not found')\n",
    "\n",
    "if __name__ == \"__main__\":\n",
    "\tunittest.main()"
   ]
  },
  {
   "cell_type": "code",
   "execution_count": null,
   "metadata": {},
   "outputs": [],
   "source": []
  }
 ],
 "metadata": {
  "kernelspec": {
   "display_name": "Python 3",
   "language": "python",
   "name": "python3"
  },
  "language_info": {
   "codemirror_mode": {
    "name": "ipython",
    "version": 3
   },
   "file_extension": ".py",
   "mimetype": "text/x-python",
   "name": "python",
   "nbconvert_exporter": "python",
   "pygments_lexer": "ipython3",
   "version": "3.6.8"
  }
 },
 "nbformat": 4,
 "nbformat_minor": 2
}
