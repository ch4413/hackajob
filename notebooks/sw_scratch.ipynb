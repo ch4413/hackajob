{
 "cells": [
  {
   "cell_type": "code",
   "execution_count": 1,
   "metadata": {},
   "outputs": [],
   "source": [
    "import requests"
   ]
  },
  {
   "cell_type": "code",
   "execution_count": 2,
   "metadata": {},
   "outputs": [],
   "source": [
    "name = \"Luke Skywalker\""
   ]
  },
  {
   "cell_type": "code",
   "execution_count": 3,
   "metadata": {},
   "outputs": [],
   "source": [
    "name = name.replace(' ', '%20')"
   ]
  },
  {
   "cell_type": "code",
   "execution_count": 4,
   "metadata": {},
   "outputs": [],
   "source": [
    "url = 'https://challenges.hackajob.co/swapi/api/people/?search='+name"
   ]
  },
  {
   "cell_type": "code",
   "execution_count": 5,
   "metadata": {},
   "outputs": [
    {
     "data": {
      "text/plain": [
       "'https://challenges.hackajob.co/swapi/api/people/?search=Luke%20Skywalker'"
      ]
     },
     "execution_count": 5,
     "metadata": {},
     "output_type": "execute_result"
    }
   ],
   "source": [
    "url"
   ]
  },
  {
   "cell_type": "code",
   "execution_count": 72,
   "metadata": {},
   "outputs": [],
   "source": [
    "def get_json(url_string):\n",
    "    \"\"\"\n",
    "    \"\"\"\n",
    "    with urllib.request.urlopen(url_string) as url:\n",
    "        data = json.loads(url.read().decode())\n",
    "    return data"
   ]
  },
  {
   "cell_type": "code",
   "execution_count": 73,
   "metadata": {},
   "outputs": [],
   "source": [
    "import urllib.request, json "
   ]
  },
  {
   "cell_type": "code",
   "execution_count": 89,
   "metadata": {},
   "outputs": [],
   "source": [
    "json_data = get_json('https://challenges.hackajob.co/swapi/api/people/')"
   ]
  },
  {
   "cell_type": "code",
   "execution_count": 92,
   "metadata": {},
   "outputs": [
    {
     "data": {
      "text/plain": [
       "4"
      ]
     },
     "execution_count": 92,
     "metadata": {},
     "output_type": "execute_result"
    }
   ],
   "source": [
    "len(json_data)"
   ]
  },
  {
   "cell_type": "code",
   "execution_count": 88,
   "metadata": {},
   "outputs": [
    {
     "data": {
      "text/plain": [
       "5"
      ]
     },
     "execution_count": 88,
     "metadata": {},
     "output_type": "execute_result"
    }
   ],
   "source": [
    "len(json_data['results'][0]['films'])"
   ]
  },
  {
   "cell_type": "code",
   "execution_count": 127,
   "metadata": {},
   "outputs": [],
   "source": [
    "import urllib.request, json \n",
    "\n",
    "def get_json(url_string):\n",
    "    \"\"\"\n",
    "    \"\"\"\n",
    "    with urllib.request.urlopen(url_string) as url:\n",
    "        data = json.loads(url.read().decode())\n",
    "    return data\n",
    "    \n",
    "def clean_name(name):\n",
    "\t\"\"\"\n",
    "\t\n",
    "\t\"\"\"\n",
    "\treturn name.replace(' ', '%20')\n",
    "\t\n",
    "def get_films(character):\n",
    "        name = clean_name(character)\n",
    "        url = 'https://challenges.hackajob.co/swapi/api/people/?search=' + name\n",
    "        json_data = get_json(url)\n",
    "        if len(json_data['results']) == 0:\n",
    "            res = character + ': none'\n",
    "        else:            \n",
    "            film_urls = json_data['results'][0]['films']\n",
    "            film_names = [get_json(x)['title'] for x in film_urls]\n",
    "            film_names.sort()\n",
    "            res = character + ': '+', '.join(film_names)\n",
    "        return res\n",
    "        \n",
    "def get_characters(film):\n",
    "        film_clean = clean_name(film)\n",
    "        url = 'https://challenges.hackajob.co/swapi/api/films/?search=' + film_clean\n",
    "        json_data = get_json(url)\n",
    "        if len(json_data['results']) == 0:\n",
    "            res = film + ': none'\n",
    "        else:\n",
    "            char_urls = json_data['results'][0]['characters']\n",
    "            char_names = [get_json(x)['name'] for x in char_urls]\n",
    "            char_names.sort()\n",
    "            res = film + ': '+', '.join(char_names)\n",
    "        return res\n",
    "\n",
    "class Solution:\n",
    "    def run(self, film, character):\n",
    "\n",
    "        a = get_characters(film)\n",
    "        b = get_films(character)\n",
    "        return a + '; ' + b"
   ]
  },
  {
   "cell_type": "code",
   "execution_count": 128,
   "metadata": {},
   "outputs": [],
   "source": [
    "sol = Solution()"
   ]
  },
  {
   "cell_type": "code",
   "execution_count": 129,
   "metadata": {},
   "outputs": [
    {
     "data": {
      "text/plain": [
       "'The Force Awakens: Ackbar, BB8, Captain Phasma, Chewbacca, Finn, Han Solo, Leia Organa, Luke Skywalker, Poe Dameron, R2-D2, Rey; Poggle the Lesser: Attack of the Clones, Revenge of the Sith'"
      ]
     },
     "execution_count": 129,
     "metadata": {},
     "output_type": "execute_result"
    }
   ],
   "source": [
    "sol.run(\"The Force Awakens\", \"Poggle the Lesser\")"
   ]
  },
  {
   "cell_type": "code",
   "execution_count": 130,
   "metadata": {},
   "outputs": [
    {
     "data": {
      "text/plain": [
       "'The Force Awakens: Ackbar, BB8, Captain Phasma, Chewbacca, Finn, Han Solo, Leia Organa, Luke Skywalker, Poe Dameron, R2-D2, Rey; Walter White: none'"
      ]
     },
     "execution_count": 130,
     "metadata": {},
     "output_type": "execute_result"
    }
   ],
   "source": [
    "sol.run(\"The Force Awakens\", \"Walter White\")"
   ]
  },
  {
   "cell_type": "code",
   "execution_count": null,
   "metadata": {},
   "outputs": [],
   "source": []
  }
 ],
 "metadata": {
  "kernelspec": {
   "display_name": "Python 3",
   "language": "python",
   "name": "python3"
  },
  "language_info": {
   "codemirror_mode": {
    "name": "ipython",
    "version": 3
   },
   "file_extension": ".py",
   "mimetype": "text/x-python",
   "name": "python",
   "nbconvert_exporter": "python",
   "pygments_lexer": "ipython3",
   "version": "3.6.8"
  }
 },
 "nbformat": 4,
 "nbformat_minor": 2
}
