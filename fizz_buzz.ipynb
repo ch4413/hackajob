{
 "cells": [
  {
   "cell_type": "code",
   "execution_count": 95,
   "metadata": {},
   "outputs": [],
   "source": [
    "def fizz_buzz(number):\n",
    "    \"\"\"\n",
    "    FizzBuzz game function: multiples of three give \"Fizz\" instead of the number and for the multiples of five give \"Buzz\". For numbers which are multiples of both three and five, give \"FizzBuzz\".\n",
    "    Args:\n",
    "        number (int or float): value to test.\n",
    "    Returns:\n",
    "        value: string based on FizzBuzz game.\n",
    "    Examples:\n",
    "        fizz_buzz(15)\n",
    "    \"\"\"\n",
    "    try:\n",
    "        a = number % 3 == 0\n",
    "        b = number % 5 == 0\n",
    "        if a and b:\n",
    "            value = 'FizzBuzz'\n",
    "        elif a:\n",
    "            value = 'Fizz'\n",
    "        elif b:\n",
    "            value = 'Buzz'\n",
    "        else:\n",
    "            value = str(number)\n",
    "        return value\n",
    "    except BaseException as e:\n",
    "        print(e)\n",
    "\n",
    "class Solution:\n",
    "    def run(self, N, M):\n",
    "        \"\"\"\n",
    "        Creates range of ints using N and M. Applies FizzBuzz rule and returns \n",
    "        Args:\n",
    "            N (int): range lower bound\n",
    "            M (int): range upper bound\n",
    "        Returns:\n",
    "            value: formatted results from FizzBuzz game.\n",
    "        Examples:\n",
    "            sol = Solution()\n",
    "            sol.run(1,5)\n",
    "        \"\"\"\n",
    "        try:\n",
    "            sequence = [fizz_buzz(x) for x in range(N, M+1)]\n",
    "            return ','.join(sequence)\n",
    "        except BaseException as e:\n",
    "            print(e)\n",
    "\t\t\t\n",
    "#main.py"
   ]
  },
  {
   "cell_type": "code",
   "execution_count": 96,
   "metadata": {},
   "outputs": [],
   "source": [
    "a = Solution()"
   ]
  },
  {
   "cell_type": "code",
   "execution_count": 97,
   "metadata": {},
   "outputs": [
    {
     "data": {
      "text/plain": [
       "'1,2,Fizz'"
      ]
     },
     "execution_count": 97,
     "metadata": {},
     "output_type": "execute_result"
    }
   ],
   "source": [
    "a.run(1, 3)"
   ]
  },
  {
   "cell_type": "code",
   "execution_count": 102,
   "metadata": {},
   "outputs": [
    {
     "name": "stdout",
     "output_type": "stream",
     "text": [
      "Goodbye, world!\n"
     ]
    },
    {
     "ename": "KeyboardInterrupt",
     "evalue": "",
     "output_type": "error",
     "traceback": [
      "\u001b[0;31m---------------------------------------------------------------------------\u001b[0m",
      "\u001b[0;31mKeyboardInterrupt\u001b[0m                         Traceback (most recent call last)",
      "\u001b[0;32m<ipython-input-102-ca8991ac7661>\u001b[0m in \u001b[0;36m<module>\u001b[0;34m\u001b[0m\n\u001b[1;32m      1\u001b[0m \u001b[0;32mtry\u001b[0m\u001b[0;34m:\u001b[0m\u001b[0;34m\u001b[0m\u001b[0;34m\u001b[0m\u001b[0m\n\u001b[0;32m----> 2\u001b[0;31m     \u001b[0;32mraise\u001b[0m \u001b[0mKeyboardInterrupt\u001b[0m\u001b[0;34m\u001b[0m\u001b[0;34m\u001b[0m\u001b[0m\n\u001b[0m\u001b[1;32m      3\u001b[0m \u001b[0;32mfinally\u001b[0m\u001b[0;34m:\u001b[0m\u001b[0;34m\u001b[0m\u001b[0;34m\u001b[0m\u001b[0m\n\u001b[1;32m      4\u001b[0m     \u001b[0mprint\u001b[0m\u001b[0;34m(\u001b[0m\u001b[0;34m'Goodbye, world!'\u001b[0m\u001b[0;34m)\u001b[0m\u001b[0;34m\u001b[0m\u001b[0;34m\u001b[0m\u001b[0m\n",
      "\u001b[0;31mKeyboardInterrupt\u001b[0m: "
     ]
    }
   ],
   "source": [
    "try:\n",
    "    raise KeyboardInterrupt\n",
    "finally:\n",
    "    print('Goodbye, world!')"
   ]
  },
  {
   "cell_type": "code",
   "execution_count": 55,
   "metadata": {},
   "outputs": [
    {
     "name": "stderr",
     "output_type": "stream",
     "text": [
      "E\n",
      "======================================================================\n",
      "ERROR: /Users/chughes/Library/Jupyter/runtime/kernel-ebfeed63-86e5-422d-89c0-63143969c742 (unittest.loader._FailedTest)\n",
      "----------------------------------------------------------------------\n",
      "AttributeError: module '__main__' has no attribute '/Users/chughes/Library/Jupyter/runtime/kernel-ebfeed63-86e5-422d-89c0-63143969c742'\n",
      "\n",
      "----------------------------------------------------------------------\n",
      "Ran 1 test in 0.002s\n",
      "\n",
      "FAILED (errors=1)\n"
     ]
    },
    {
     "ename": "SystemExit",
     "evalue": "True",
     "output_type": "error",
     "traceback": [
      "An exception has occurred, use %tb to see the full traceback.\n",
      "\u001b[0;31mSystemExit\u001b[0m\u001b[0;31m:\u001b[0m True\n"
     ]
    },
    {
     "name": "stderr",
     "output_type": "stream",
     "text": [
      "/anaconda3/envs/ml_python_36/lib/python3.6/site-packages/IPython/core/interactiveshell.py:3275: UserWarning: To exit: use 'exit', 'quit', or Ctrl-D.\n",
      "  warn(\"To exit: use 'exit', 'quit', or Ctrl-D.\", stacklevel=1)\n"
     ]
    }
   ],
   "source": [
    "import unittest\n",
    "\n",
    "class SolutionMethods(unittest.TestCase):\n",
    "\t##\n",
    "\t## /!\\ Unit Tests are optional but highly recommended /!\\\n",
    "\t##\n",
    "\t# First Example\n",
    "\t##\n",
    "\tdef test_example(self):\n",
    "\t\tself.assertEqual(\"this is an example\", \"this is an example\")\n",
    "\n",
    "\t##\n",
    "\t# Second Example\n",
    "\t##\n",
    "\tdef test_run(self):\n",
    "\t\tsolution = Solution()\n",
    "\t\tself.assertEqual(solution.run(1,2), \n",
    "\t\t'1,2')\n",
    "\tdef test_fizzbuzz(self):\n",
    "\t\tself.assertEqual(fizz_buzz(3), \n",
    "\t\t'Fizz')\n",
    "\t\t\n",
    "if __name__ == \"__main__\":\n",
    "\tunittest.main()\n",
    "# main.test.py"
   ]
  }
 ],
 "metadata": {
  "kernelspec": {
   "display_name": "Python ML",
   "language": "python",
   "name": "ml_python_36"
  },
  "language_info": {
   "codemirror_mode": {
    "name": "ipython",
    "version": 3
   },
   "file_extension": ".py",
   "mimetype": "text/x-python",
   "name": "python",
   "nbconvert_exporter": "python",
   "pygments_lexer": "ipython3",
   "version": "3.6.8"
  }
 },
 "nbformat": 4,
 "nbformat_minor": 2
}
